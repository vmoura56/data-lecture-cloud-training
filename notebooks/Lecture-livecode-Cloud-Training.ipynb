{
 "cells": [
  {
   "cell_type": "markdown",
   "id": "357b9aa2",
   "metadata": {},
   "source": [
    "# Setup"
   ]
  },
  {
   "cell_type": "markdown",
   "id": "c9c4d576",
   "metadata": {},
   "source": [
    "The livecodes of the lecture are based on the code used by the students during the challenges.\n",
    "\n",
    "We will use the **data-lecture-cloud-training** challenge for all the livecodes of the lecture.\n",
    "\n",
    "Myriad batches:\n",
    "\n",
    "``` bash\n",
    "cd data-lecture-cloud-training\n",
    "```\n",
    "\n",
    "Legacy batches:\n",
    "\n",
    "``` bash\n",
    "cd data-challenges/07-ML-Ops/02-Cloud-training/00-Lecture-livecode\n",
    "```\n",
    "\n",
    "Download data:\n",
    "\n",
    "``` bash\n",
    "curl https://storage.googleapis.com/datascience-mlops/taxi-fare-ny/train_10k.csv > ~/.lewagon/mlops/data/raw/train_10k.csv\n",
    "curl https://storage.googleapis.com/datascience-mlops/taxi-fare-ny/val_10k.csv > ~/.lewagon/mlops/data/raw/val_10k.csv\n",
    "```\n",
    "\n",
    "Then use VSCode:\n",
    "\n",
    "``` bash\n",
    "code .\n",
    "```"
   ]
  },
  {
   "cell_type": "markdown",
   "id": "833850e4",
   "metadata": {},
   "source": [
    "# Application parameters"
   ]
  },
  {
   "cell_type": "markdown",
   "id": "f0097fd6",
   "metadata": {},
   "source": [
    "Make sure the model trains:\n",
    "\n",
    "``` bash\n",
    "make run_preprocess run_train\n",
    "```"
   ]
  },
  {
   "cell_type": "markdown",
   "id": "c9fe0990",
   "metadata": {},
   "source": [
    "equivalent to running **interface/main.py** with"
   ]
  },
  {
   "cell_type": "code",
   "execution_count": null,
   "id": "41489e8d",
   "metadata": {},
   "outputs": [],
   "source": [
    "if __name__ == '__main__':\n",
    "    preprocess()\n",
    "    preprocess(source_type='val')\n",
    "    train()\n",
    "    # pred()\n",
    "    # evaluate()\n"
   ]
  },
  {
   "cell_type": "markdown",
   "id": "f972fce5",
   "metadata": {},
   "source": [
    "### Setting up `direnv` to manage environment variables"
   ]
  },
  {
   "cell_type": "markdown",
   "id": "08a88ac8",
   "metadata": {},
   "source": [
    "Install using instructions for your machine [in direnv docs](https://direnv.net/docs/installation.html)\n",
    "\n",
    "1. After installation, add `direnv` to the list of oh-my-zsh plugins in your `~/.zshrc` (run `zsh` or open a new terminal window in order to apply the change)\n",
    "2. If `direnv` does not load in the shell you can run `eval \"$(direnv hook zsh)\"` (add it to the `~/.zshrc` as well)"
   ]
  },
  {
   "cell_type": "markdown",
   "id": "edb9d715",
   "metadata": {},
   "source": [
    "**model_target/local_model.py**"
   ]
  },
  {
   "cell_type": "code",
   "execution_count": null,
   "id": "fe522b13",
   "metadata": {},
   "outputs": [],
   "source": [
    "import os\n",
    "\n",
    "def save_local_model(model, suffix):\n",
    "\n",
    "    if model:\n",
    "\n",
    "        model_path = os.path.join(os.environ.get(\"LOCAL_REGISTRY_PATH\"), \"models\",\n",
    "                                  suffix + \".pickle\")\n",
    "\n",
    "        print(f\"- model path: {model_path}\")\n",
    "\n",
    "        model.save(model_path)\n"
   ]
  },
  {
   "cell_type": "markdown",
   "id": "296d92ec",
   "metadata": {},
   "source": [
    "**model_target/cloud_model.py**"
   ]
  },
  {
   "cell_type": "code",
   "execution_count": null,
   "id": "3b6c0814",
   "metadata": {},
   "outputs": [],
   "source": [
    "def save_cloud_model(model, suffix):\n",
    "\n",
    "    print(\"TODO: save model in the cloud 🧬\")\n"
   ]
  },
  {
   "cell_type": "markdown",
   "id": "71e68937",
   "metadata": {},
   "source": [
    "**data_sources/cloud_data.py**"
   ]
  },
  {
   "cell_type": "code",
   "execution_count": null,
   "id": "fe2b8dc0",
   "metadata": {},
   "outputs": [],
   "source": [
    "def get_cloud_chunk(path,\n",
    "                    index,\n",
    "                    chunk_size,\n",
    "                    dtypes,\n",
    "                    columns):\n",
    "\n",
    "    print(\"TODO: get cloud chunk 🧩\")\n"
   ]
  },
  {
   "cell_type": "markdown",
   "id": "db65cb08",
   "metadata": {},
   "source": [
    "**ml_logic/registry.py**"
   ]
  },
  {
   "cell_type": "code",
   "execution_count": null,
   "id": "0258589d",
   "metadata": {},
   "outputs": [],
   "source": [
    "from taxifare.model_target.local_model import save_local_model\n",
    "from taxifare.model_target.cloud_model import save_cloud_model\n",
    "\n",
    "        if os.environ[\"MODEL_TARGET\"] == \"local\":\n",
    "            save_local_model(model, suffix)\n",
    "        elif os.environ[\"MODEL_TARGET\"] == \"cloud\":\n",
    "            save_cloud_model(model, suffix)\n",
    "        else:\n",
    "            raise ValueError(f\"Invalid .env config for model: {os.environ['MODEL_TARGET']} 🤕\")\n"
   ]
  },
  {
   "cell_type": "markdown",
   "id": "050f9ae1",
   "metadata": {},
   "source": [
    "**ml_logic/data.py**"
   ]
  },
  {
   "cell_type": "code",
   "execution_count": null,
   "id": "c1fe1156",
   "metadata": {},
   "outputs": [],
   "source": [
    "from taxifare.data_sources.cloud_data import get_cloud_chunk\n",
    "\n",
    "    if os.environ[\"DATA_SOURCE\"] == \"local\":\n",
    "        chunk_df = get_pandas_chunk(path=source_name,\n",
    "                                    index=index,\n",
    "                                    chunk_size=chunk_size,\n",
    "                                    dtypes=dtypes,\n",
    "                                    columns=columns)\n",
    "    elif os.environ[\"DATA_SOURCE\"] == \"cloud\":\n",
    "        chunk_df = get_cloud_chunk(table=source_name,\n",
    "                                   index=index,\n",
    "                                   chunk_size=chunk_size,\n",
    "                                   dtypes=dtypes)\n",
    "    else:\n",
    "        raise NameError(f\"Invalid .env conf for data: {os.environ['DATA_SOURCE']} 😬\")\n"
   ]
  },
  {
   "cell_type": "markdown",
   "id": "c9453739",
   "metadata": {},
   "source": [
    "# Model in the cloud"
   ]
  },
  {
   "cell_type": "markdown",
   "id": "b48783fb",
   "metadata": {},
   "source": [
    "**raw code**"
   ]
  },
  {
   "cell_type": "code",
   "execution_count": null,
   "id": "2e4bc174",
   "metadata": {},
   "outputs": [],
   "source": [
    "from google.cloud import storage\n",
    "\n",
    "BUCKET_NAME = \"my-bucket\"\n",
    "\n",
    "storage_filename = \"models/random_forest_model.joblib\"\n",
    "local_filename = \"model.joblib\"\n",
    "\n",
    "client = storage.Client()\n",
    "bucket = client.bucket(BUCKET_NAME)\n",
    "blob = bucket.blob(storage_filename)\n",
    "blob.upload_from_filename(local_filename)\n"
   ]
  },
  {
   "cell_type": "markdown",
   "id": "e92b9813",
   "metadata": {},
   "source": [
    "**model_target/cloud_model.py**"
   ]
  },
  {
   "cell_type": "code",
   "execution_count": null,
   "id": "b1487d7e",
   "metadata": {},
   "outputs": [],
   "source": [
    "from google.cloud import storage\n",
    "\n",
    "import glob\n",
    "import os\n",
    "\n",
    "def save_cloud_model(model, suffix):\n",
    "\n",
    "    # save the model\n",
    "    if model:\n",
    "\n",
    "        model_path = os.path.join(os.environ.get(\"LOCAL_REGISTRY_PATH\"), \"models\",\n",
    "                                  suffix + \".pickle\")\n",
    "\n",
    "        model.save(model_path)\n",
    "\n",
    "        # list model files\n",
    "        files = glob.glob(f\"{model_path}/**/*.*\", recursive=True)\n",
    "\n",
    "        for file in files:\n",
    "            storage_filename = file[17:]\n",
    "\n",
    "            client = storage.Client()\n",
    "            bucket = client.bucket(os.environ[\"BUCKET_NAME\"])\n",
    "            blob = bucket.blob(storage_filename)\n",
    "            blob.upload_from_filename(file)\n"
   ]
  },
  {
   "cell_type": "markdown",
   "id": "7abafd45",
   "metadata": {},
   "source": [
    "# Data in the cloud"
   ]
  },
  {
   "cell_type": "markdown",
   "id": "0365050f",
   "metadata": {},
   "source": [
    "**raw code**"
   ]
  },
  {
   "cell_type": "code",
   "execution_count": null,
   "id": "0f09ae1a",
   "metadata": {},
   "outputs": [],
   "source": [
    "from google.cloud import bigquery\n",
    "\n",
    "client = bigquery.Client()\n",
    "rows = client.list_rows(table, start_index=index, max_results=chunk_size)\n",
    "big_query_df = rows.to_dataframe()\n",
    "\n",
    "if big_query_df.shape[0] == 0:\n",
    "    return None  # end of data\n",
    "\n",
    "big_query_df = big_query_df.astype(dtypes)\n",
    "\n",
    "return big_query_df"
   ]
  },
  {
   "cell_type": "markdown",
   "id": "87a4bf92",
   "metadata": {},
   "source": [
    "**data_sources/cloud_data.py**"
   ]
  },
  {
   "cell_type": "code",
   "execution_count": null,
   "id": "01515ee8",
   "metadata": {},
   "outputs": [],
   "source": [
    "from google.cloud import bigquery\n",
    "\n",
    "import os\n",
    "\n",
    "\n",
    "def get_cloud_chunk(table, index, chunk_size, dtypes):\n",
    "\n",
    "    table = f\"{os.environ['PROJECT']}.{os.environ['DATASET']}.{table}\"\n",
    "\n",
    "    client = bigquery.Client()\n",
    "\n",
    "    rows = client.list_rows(table, start_index=index, max_results=chunk_size)\n",
    "\n",
    "    big_query_df = rows.to_dataframe()\n",
    "\n",
    "    if big_query_df.shape[0] == 0:\n",
    "        return None  # end of data\n",
    "\n",
    "    big_query_df = big_query_df.astype(dtypes)\n",
    "\n",
    "    print(f\"Data loaded from BQ 🔥\")\n",
    "    print(big_query_df.head())\n",
    "\n",
    "    return big_query_df\n"
   ]
  },
  {
   "cell_type": "markdown",
   "id": "fac09003",
   "metadata": {},
   "source": [
    "# Training in the cloud"
   ]
  },
  {
   "cell_type": "markdown",
   "id": "b82f34c5",
   "metadata": {},
   "source": [
    "Setup a VM by following the **training in the cloud** challenge"
   ]
  },
  {
   "cell_type": "markdown",
   "id": "1ef1d69b",
   "metadata": {},
   "source": [
    "# Code essentials"
   ]
  },
  {
   "cell_type": "markdown",
   "id": "94a3ee42",
   "metadata": {},
   "source": [
    "## Cloud Storage"
   ]
  },
  {
   "cell_type": "code",
   "execution_count": null,
   "id": "5ed5172e",
   "metadata": {},
   "outputs": [],
   "source": [
    "from google.cloud import storage\n",
    "\n",
    "BUCKET_NAME = \"my-bucket\"\n",
    "\n",
    "storage_filename = \"models/random_forest_model.joblib\"\n",
    "local_filename = \"model.joblib\"\n",
    "\n",
    "client = storage.Client()\n",
    "bucket = client.bucket(BUCKET_NAME)\n",
    "blob = bucket.blob(storage_filename)\n",
    "blob.upload_from_filename(local_filename)\n"
   ]
  },
  {
   "cell_type": "markdown",
   "id": "3deb7c0b",
   "metadata": {},
   "source": [
    "## Big Query"
   ]
  },
  {
   "cell_type": "code",
   "execution_count": null,
   "id": "48b87a3a",
   "metadata": {},
   "outputs": [],
   "source": [
    "from google.cloud import bigquery\n",
    "\n",
    "client = bigquery.Client()\n",
    "rows = client.list_rows(table, start_index=index, max_results=chunk_size)\n",
    "big_query_df = rows.to_dataframe()\n",
    "\n",
    "if big_query_df.shape[0] == 0:\n",
    "    return None  # end of data\n",
    "\n",
    "big_query_df = big_query_df.astype(dtypes)\n",
    "\n",
    "return big_query_df"
   ]
  }
 ],
 "metadata": {
  "kernelspec": {
   "display_name": "Python 3 (ipykernel)",
   "language": "python",
   "name": "python3"
  },
  "language_info": {
   "codemirror_mode": {
    "name": "ipython",
    "version": 3
   },
   "file_extension": ".py",
   "mimetype": "text/x-python",
   "name": "python",
   "nbconvert_exporter": "python",
   "pygments_lexer": "ipython3",
   "version": "3.10.6"
  },
  "toc": {
   "base_numbering": 1,
   "nav_menu": {},
   "number_sections": true,
   "sideBar": true,
   "skip_h1_title": false,
   "title_cell": "Table of Contents",
   "title_sidebar": "Contents",
   "toc_cell": false,
   "toc_position": {},
   "toc_section_display": true,
   "toc_window_display": false
  }
 },
 "nbformat": 4,
 "nbformat_minor": 5
}
